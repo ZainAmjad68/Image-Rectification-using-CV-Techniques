{
 "cells": [
  {
   "cell_type": "code",
   "execution_count": 114,
   "metadata": {},
   "outputs": [
    {
     "name": "stdout",
     "output_type": "stream",
     "text": [
      "278 190\n",
      "294 222\n",
      "304 187\n",
      "325 215\n",
      "210 189\n",
      "234 196\n",
      "188 215\n",
      "220 225\n"
     ]
    },
    {
     "data": {
      "text/plain": [
       "-1"
      ]
     },
     "execution_count": 114,
     "metadata": {},
     "output_type": "execute_result"
    }
   ],
   "source": [
    "import cv2\n",
    "import numpy as np\n",
    "from matplotlib import pyplot as plt\n",
    "from math import sqrt, pi, sin, cos, tan\n",
    "#from __future__ import division\n",
    "\n",
    "img = cv2.imread('img8.jpg')\n",
    "gray = cv2.cvtColor(img,cv2.COLOR_BGR2GRAY)\n",
    "\n",
    "list1 = []      # separate lists to store the coordinates for the separate lines\n",
    "list2 = []\n",
    "check = 0       # variable to switch between the lists\n",
    "\n",
    "def getPoints(event, x, y, flags, params): # get Parallel Lines\n",
    "    \n",
    "    global list1, list2, check    \n",
    "   \n",
    "    if event == cv2.EVENT_LBUTTONDOWN:\n",
    "        print (x,y)\n",
    "        if check < 4:\n",
    "            list1.append([x, y])\n",
    "            check += 1\n",
    "        else:\n",
    "            list2.append([x, y])\n",
    "    elif event == cv2.EVENT_LBUTTONUP:                   \n",
    "        cv2.circle(img,(x,y), 4, (0,255,0), -1)\n",
    "        cv2.imshow(\"image\", img)\n",
    "\n",
    "    \n",
    "cv2.namedWindow(\"image\")\n",
    "cv2.setMouseCallback(\"image\", getPoints)\n",
    "\n",
    "def selectPoints():\n",
    "    global check\n",
    "    while True:\n",
    "        cv2.imshow(\"image\", img)\n",
    "        key = cv2.waitKey(1) & 0xFF        \n",
    "        \n",
    "        if key == ord(\"q\"):\n",
    "            cv2.imwrite(\"PointsSelected.jpg\", img)\n",
    "            break\n",
    "#         elif check == 7:\n",
    "#             break\n",
    "        \n",
    "selectPoints()\n",
    "cv2.destroyAllWindows()\n",
    "cv2.waitKey(1)"
   ]
  },
  {
   "cell_type": "code",
   "execution_count": 115,
   "metadata": {},
   "outputs": [
    {
     "data": {
      "text/plain": [
       "-1"
      ]
     },
     "execution_count": 115,
     "metadata": {},
     "output_type": "execute_result"
    }
   ],
   "source": [
    "cv2.destroyAllWindows()\n",
    "cv2.waitKey(1)"
   ]
  },
  {
   "cell_type": "code",
   "execution_count": 116,
   "metadata": {},
   "outputs": [
    {
     "name": "stdout",
     "output_type": "stream",
     "text": [
      "[[278, 190], [294, 222], [304, 187], [325, 215]] [[210, 189], [234, 196], [188, 215], [220, 225]]\n",
      "[221.5  77.    1. ] [-1.3680e+03 -2.7125e+02  1.0000e+00]\n"
     ]
    },
    {
     "data": {
      "text/plain": [
       "-1"
      ]
     },
     "execution_count": 116,
     "metadata": {},
     "output_type": "execute_result"
    }
   ],
   "source": [
    "print (list1, list2)\n",
    "\n",
    "# This function returns the vanishing line equation\n",
    "def vanishingline(list1, list2):\n",
    "    \n",
    "    # Equation of lines\n",
    "    l1 = np.cross([list1[0][0], list1[0][1], 1], [list1[1][0], list1[1][1], 1])\n",
    "    l2 = np.cross([list1[2][0], list1[2][1], 1], [list1[3][0], list1[3][1], 1])\n",
    "    p1 = np.cross([list2[0][0], list2[0][1], 1], [list2[1][0], list2[1][1], 1])\n",
    "    p2 = np.cross([list2[2][0], list2[2][1], 1], [list2[3][0], list2[3][1], 1])\n",
    "    \n",
    "    temp1 = np.cross(l1,l2)\n",
    "    temp2 = np.cross(p1,p2)\n",
    "    \n",
    "    # Vanishing Points\n",
    "    v1 = temp1/temp1[2]\n",
    "    v2 = temp2/temp2[2]\n",
    "    print (v1, v2)\n",
    "    \n",
    "    return np.cross(v1, v2)\n",
    "    \n",
    "\n",
    "vLine = vanishingline(list1, list2)\n",
    "\n",
    "\n",
    "# Returns the Affine Rectification Homography Matrix (that represents projective distortion)\n",
    "def affineHom(line):    \n",
    "    return np.array([[1, 0, 0], [0, 1, 0], [line[0]/line[2], line[1]/line[2], 1]])\n",
    "\n",
    "\n",
    "HomMatrix = np.float32(affineHom(vLine))\n",
    "\n",
    "# # M = cv2.getPerspectiveTransform(pts1,pts2)\n",
    "size = gray.shape\n",
    "sizeNew = (size[1], size[0])\n",
    "AffineRect = cv2.warpPerspective(img,HomMatrix, sizeNew)\n",
    "#cv2.imshow(\"Affine Rectification\", AffineRect)\n",
    "cv2.imwrite(\"AffineRectifiedImage.jpg\", AffineRect)\n",
    "cv2.waitKey(500)"
   ]
  },
  {
   "cell_type": "code",
   "execution_count": 92,
   "metadata": {},
   "outputs": [
    {
     "name": "stdout",
     "output_type": "stream",
     "text": [
      "380 33\n",
      "307 38\n",
      "341 66\n",
      "345 16\n",
      "333 9\n",
      "253 20\n"
     ]
    }
   ],
   "source": [
    "img = AffineRect\n",
    "gray = cv2.cvtColor(img,cv2.COLOR_BGR2GRAY)\n",
    " \n",
    "# These two lists keep the points for perpendicular lines calculation\n",
    "Mlist1 = []\n",
    "Mlist2 = []\n",
    "checkM = 0\n",
    "\n",
    "def getPointsMetric(event, x, y, flags, params):\n",
    "    \n",
    "    global Mlist1, Mlist2, checkM \n",
    "   \n",
    "    if event == cv2.EVENT_LBUTTONDOWN:\n",
    "        print (x,y)\n",
    "        if checkM < 3:\n",
    "            Mlist1.append([x, y])\n",
    "            checkM += 1\n",
    "        else:\n",
    "            Mlist2.append([x, y])\n",
    "    elif event == cv2.EVENT_LBUTTONUP:                   \n",
    "        cv2.circle(img,(x,y), 4, (0,255,0), -1)\n",
    "        cv2.imshow(\"image\", img)\n",
    "\n",
    "    \n",
    "cv2.namedWindow(\"image\")\n",
    "cv2.setMouseCallback(\"image\", getPointsMetric)\n",
    "\n",
    "selectPoints()\n",
    "cv2.destroyAllWindows()\n",
    "cv2.waitKey(1)\n",
    "\n",
    "# This function returns the perpendicular lines required for metric rectification\n",
    "def returnPerLines(list1, list2):\n",
    "    \n",
    "    # Equation of lines\n",
    "    l1 = np.cross([list1[0][0], list1[0][1], 1], [list1[1][0], list1[1][1], 1])\n",
    "    m1 = np.cross([list1[2][0], list1[2][1], 1], [list1[1][0], list1[1][1], 1])\n",
    "    \n",
    "    l2 = np.cross([list2[0][0], list2[0][1], 1], [list2[1][0], list2[1][1], 1])\n",
    "    m2 = np.cross([list2[2][0], list2[2][1], 1], [list2[1][0], list2[1][1], 1])\n",
    "\n",
    "    return l1/l1[2], m1/m1[2], l2/l2[2], m2/m2[2]\n",
    "    \n",
    "\n",
    "l1, m1, l2, m2 = returnPerLines(Mlist1, Mlist2)\n",
    "\n"
   ]
  },
  {
   "cell_type": "code",
   "execution_count": 93,
   "metadata": {},
   "outputs": [
    {
     "name": "stdout",
     "output_type": "stream",
     "text": [
      "[[-0.9962978 -0.0859691]\n",
      " [-0.0859691  0.9962978]] [8.78946846 0.94200183] [[-0.9962978 -0.0859691]\n",
      " [-0.0859691  0.9962978]]\n"
     ]
    }
   ],
   "source": [
    "# This function returns the symmetric matrix\n",
    "def symmetricMatrix(l1, m1, l2, m2):\n",
    "    C = np.array([-l1[1]*m1[1], -l2[1]*m2[1]])\n",
    "    A = np.array([[l1[0]*m1[0], l1[0]*m1[1] + l1[1]*m1[0]], [l2[0]*m2[0], l2[0]*m2[1] + l2[1]*m2[0]]])\n",
    "    \n",
    "    s = np.matmul(np.linalg.inv(A), C)\n",
    "    \n",
    "    # symmetric matrix\n",
    "    sWhole = np.array([[s[0], s[1]], [s[1], 1]])\n",
    "    return sWhole\n",
    "    \n",
    "smatrix = symmetricMatrix(l1, m1, l2, m2)\n",
    "\n",
    "U, D, V = np.linalg.svd(smatrix)\n",
    "print (U, D, V)\n",
    "\n"
   ]
  },
  {
   "cell_type": "code",
   "execution_count": 94,
   "metadata": {},
   "outputs": [
    {
     "name": "stdout",
     "output_type": "stream",
     "text": [
      "[[2.94996574 0.1707994  0.        ]\n",
      " [0.1707994  0.98530582 0.        ]]\n"
     ]
    },
    {
     "data": {
      "text/plain": [
       "-1"
      ]
     },
     "execution_count": 94,
     "metadata": {},
     "output_type": "execute_result"
    }
   ],
   "source": [
    "# This function returns the affine homography matrix\n",
    "def affineHom(U, D, V):\n",
    "    Dtemp = np.sqrt(D)\n",
    "    Dfinal = np.array([[Dtemp[0], 0], [0, Dtemp[1]]])\n",
    "    \n",
    "    # The final A matrix\n",
    "    Am = np.matmul(np.matmul(U, Dfinal), V)\n",
    "     \n",
    "    print (np.array([[Am[0][0], Am[0][1], 0], [Am[1][0], Am[1][1], 0]]))\n",
    "    return np.array([[Am[0][0], Am[0][1], 0], [Am[1][0], Am[1][1], 0], [0, 0, 1]])\n",
    "    \n",
    "    \n",
    "HomAffine = affineHom(U, D, V)\n",
    "InvHomeAffine = np.float32(np.linalg.inv(HomAffine))  \n",
    "\n",
    "MetricRect = cv2.warpPerspective(AffineRect,InvHomeAffine, sizeNew)\n",
    "\n",
    "#cv2.imshow(\"Metric Rectification\", MetricRect)\n",
    "cv2.imwrite(\"MetricRectifiedImage.jpg\", MetricRect)\n",
    "cv2.waitKey(500)"
   ]
  },
  {
   "cell_type": "code",
   "execution_count": null,
   "metadata": {},
   "outputs": [],
   "source": [
    "cv2.destroyAllWindows()\n",
    "cv2.waitKey(1)"
   ]
  }
 ],
 "metadata": {
  "kernelspec": {
   "display_name": "Python 3",
   "language": "python",
   "name": "python3"
  },
  "language_info": {
   "codemirror_mode": {
    "name": "ipython",
    "version": 3
   },
   "file_extension": ".py",
   "mimetype": "text/x-python",
   "name": "python",
   "nbconvert_exporter": "python",
   "pygments_lexer": "ipython3",
   "version": "3.7.4"
  }
 },
 "nbformat": 4,
 "nbformat_minor": 2
}
